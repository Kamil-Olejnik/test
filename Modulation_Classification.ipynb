{
  "nbformat": 4,
  "nbformat_minor": 0,
  "metadata": {
    "colab": {
      "name": "Modulation_Classification3.ipynb",
      "provenance": [],
      "gpuType": "T4"
    },
    "language_info": {
      "codemirror_mode": {
        "name": "ipython",
        "version": 3
      },
      "file_extension": ".py",
      "mimetype": "text/x-python",
      "name": "python",
      "nbconvert_exporter": "python",
      "pygments_lexer": "ipython3",
      "version": "3.6.4"
    },
    "kernelspec": {
      "name": "python3",
      "display_name": "Python 3"
    },
    "accelerator": "GPU"
  },
  "cells": [
    {
      "cell_type": "code",
      "metadata": {
        "id": "FNYr1At6z_QP"
      },
      "source": [
        "from sklearn.preprocessing import LabelBinarizer as LB\n",
        "from sklearn.preprocessing import normalize\n",
        "from sklearn.metrics import confusion_matrix\n",
        "from sklearn.metrics import accuracy_score\n",
        "# --------------------\n",
        "from keras.layers import Conv2D, ZeroPadding2D\n",
        "from keras.layers import Reshape, Flatten, Dropout\n",
        "from keras.callbacks import EarlyStopping\n",
        "from keras.models import Sequential\n",
        "from keras.models import load_model\n",
        "from keras.layers import Dense\n",
        "from keras import metrics\n",
        "# --------------------\n",
        "from pandas import DataFrame as df\n",
        "# --------------------\n",
        "import matplotlib.pyplot as plt\n",
        "import tensorflow as tf\n",
        "import numpy as np\n",
        "# --------------------\n",
        "import tarfile\n",
        "import pickle\n",
        "import random\n",
        "import keras\n",
        "import sys\n",
        "import gc\n"
      ],
      "execution_count": 1,
      "outputs": []
    },
    {
      "cell_type": "code",
      "source": [
        "import tensorflow as tf\n",
        "\n",
        "# Load the model saved in .h5 format\n",
        "model = tf.keras.models.load_model('ann.h5')\n",
        "\n",
        "# Convert the Keras model to TensorFlow Lite format\n",
        "converter = tf.lite.TFLiteConverter.from_keras_model(model)\n",
        "\n",
        "# (Optional) You can optimize the model for better performance on mobile devices\n",
        "converter.optimizations = [tf.lite.Optimize.DEFAULT]  # This can reduce the model size and improve performance\n",
        "\n",
        "# Convert the model\n",
        "tflite_model = converter.convert()\n",
        "\n",
        "# Save the TensorFlow Lite model to a .tflite file\n",
        "with open('model.tflite', 'wb') as f:\n",
        "    f.write(tflite_model)"
      ],
      "metadata": {
        "id": "eG4dPe13tBrd",
        "outputId": "bdbde102-f020-45e0-abab-6c91f7d205e1",
        "colab": {
          "base_uri": "https://localhost:8080/"
        }
      },
      "execution_count": 5,
      "outputs": [
        {
          "output_type": "stream",
          "name": "stderr",
          "text": [
            "WARNING:absl:Compiled the loaded model, but the compiled metrics have yet to be built. `model.compile_metrics` will be empty until you train or evaluate the model.\n"
          ]
        },
        {
          "output_type": "stream",
          "name": "stdout",
          "text": [
            "Saved artifact at '/tmp/tmphif5m5wn'. The following endpoints are available:\n",
            "\n",
            "* Endpoint 'serve'\n",
            "  args_0 (POSITIONAL_ONLY): TensorSpec(shape=(None, 2, 128), dtype=tf.float32, name='input_layer')\n",
            "Output Type:\n",
            "  TensorSpec(shape=(None, 10), dtype=tf.float32, name=None)\n",
            "Captures:\n",
            "  134351692701488: TensorSpec(shape=(), dtype=tf.resource, name=None)\n",
            "  134351682966400: TensorSpec(shape=(), dtype=tf.resource, name=None)\n",
            "  134351682973616: TensorSpec(shape=(), dtype=tf.resource, name=None)\n",
            "  134351683142576: TensorSpec(shape=(), dtype=tf.resource, name=None)\n",
            "  134351683146624: TensorSpec(shape=(), dtype=tf.resource, name=None)\n",
            "  134351683147504: TensorSpec(shape=(), dtype=tf.resource, name=None)\n",
            "  134351683156656: TensorSpec(shape=(), dtype=tf.resource, name=None)\n",
            "  134351683157360: TensorSpec(shape=(), dtype=tf.resource, name=None)\n"
          ]
        }
      ]
    },
    {
      "cell_type": "code",
      "source": [
        "import numpy as np\n",
        "import tensorflow as tf\n",
        "\n",
        "# Load the TensorFlow Lite model\n",
        "interpreter = tf.lite.Interpreter(model_path='model.tflite')\n",
        "\n",
        "# Allocate tensors for the interpreter\n",
        "interpreter.allocate_tensors()\n",
        "\n",
        "# Get input and output tensors\n",
        "input_details = interpreter.get_input_details()\n",
        "output_details = interpreter.get_output_details()\n",
        "\n",
        "# Example input data (make sure the shape matches your model's input)\n",
        "input_data = np.random.random(input_details[0]['shape']).astype(np.float32)\n",
        "\n",
        "# Set the input tensor\n",
        "interpreter.set_tensor(input_details[0]['index'], input_data)\n",
        "\n",
        "# Run inference\n",
        "interpreter.invoke()\n",
        "\n",
        "# Get the output tensor\n",
        "output_data = interpreter.get_tensor(output_details[0]['index'])\n",
        "\n",
        "# Print the output\n",
        "print(output_data)"
      ],
      "metadata": {
        "id": "1Orf8ex3xrFn",
        "outputId": "41f2a010-af74-4a7a-f463-d8233f2bc810",
        "colab": {
          "base_uri": "https://localhost:8080/"
        }
      },
      "execution_count": 6,
      "outputs": [
        {
          "output_type": "stream",
          "name": "stdout",
          "text": [
            "[[0. 0. 0. 0. 0. 1. 0. 0. 0. 0.]]\n"
          ]
        }
      ]
    },
    {
      "cell_type": "code",
      "metadata": {
        "id": "6wEh_j9A-36T"
      },
      "source": [
        "!wget -O RML2016.10b.tar.bz2 https://f002.backblazeb2.com/file/deepsig-datasets/2016.10/RML2016.10b.tar.bz2?Authorization=3_20241206084830_dddbbd738b38ebb6b1f15094_a918d6f63b20317c8be078d142c50eef58692dc4_002_20241206094830_0027_dnld\n",
        "!tar jxf RML2016.10b.tar.bz2"
      ],
      "execution_count": null,
      "outputs": []
    },
    {
      "cell_type": "code",
      "metadata": {
        "id": "aAUjInDf0M4c"
      },
      "source": [
        "file = open(\"RML2016.10b.dat\",'rb')\n",
        "Xd = pickle.load(file, encoding = 'bytes')\n",
        "snrs, mods = map(lambda j: sorted(list(set(map(lambda x: x[j], Xd.keys())))), [1,0])\n",
        "X = []\n",
        "lbl = []\n",
        "for mod in mods:\n",
        "    for snr in snrs:\n",
        "        X.append(Xd[(mod,snr)])\n",
        "        for i in range(Xd[(mod,snr)].shape[0]):  lbl.append((mod,snr))\n",
        "X = np.vstack(X)\n",
        "file.close()"
      ],
      "execution_count": 36,
      "outputs": []
    },
    {
      "cell_type": "markdown",
      "metadata": {
        "id": "0Q3EMKoJ-4v6"
      },
      "source": [
        "## Create Features Space"
      ]
    },
    {
      "cell_type": "code",
      "metadata": {
        "id": "JygL40Bo_iNV"
      },
      "source": [
        "features = {}"
      ],
      "execution_count": null,
      "outputs": []
    },
    {
      "cell_type": "code",
      "source": [],
      "metadata": {
        "id": "3Ft5xFyHszv8"
      },
      "execution_count": null,
      "outputs": []
    },
    {
      "cell_type": "markdown",
      "metadata": {
        "id": "ek7kJ8xR_WOy"
      },
      "source": [
        "**Raw Time Feature**"
      ]
    },
    {
      "cell_type": "code",
      "metadata": {
        "id": "L0hE1Y_PP-QQ"
      },
      "source": [
        "features['raw']        = X[:,0], X[:,1]"
      ],
      "execution_count": null,
      "outputs": []
    },
    {
      "cell_type": "markdown",
      "metadata": {
        "id": "pKkXenUh_Z9m"
      },
      "source": [
        "**First derivative in time**"
      ]
    },
    {
      "cell_type": "code",
      "metadata": {
        "id": "CiGPAY7s_OOe"
      },
      "source": [
        "features['derivative'] = normalize(np.gradient(X[:,0], axis = 1)), normalize(np.gradient(X[:,1], axis = 1))"
      ],
      "execution_count": 34,
      "outputs": []
    },
    {
      "cell_type": "markdown",
      "metadata": {
        "id": "wGyS6ZD7_ff2"
      },
      "source": [
        "**Integral in time**"
      ]
    },
    {
      "cell_type": "code",
      "metadata": {
        "id": "0Jc15J5r_OfX"
      },
      "source": [
        "features['integral']   = normalize(np.cumsum(X[:,0], axis = 1)), normalize(np.cumsum(X[:,1], axis = 1))"
      ],
      "execution_count": 35,
      "outputs": []
    },
    {
      "cell_type": "markdown",
      "metadata": {
        "id": "OvGETT-I_jAQ"
      },
      "source": [
        "**All Togetheer Feature Space**"
      ]
    },
    {
      "cell_type": "code",
      "metadata": {
        "id": "WDuvdmZo4CDR"
      },
      "source": [
        "def extract_features(*arguments):\n",
        "\n",
        "    desired = ()\n",
        "    for arg in arguments:\n",
        "        desired += features[arg]\n",
        "\n",
        "    return np.stack(desired, axis = 1)"
      ],
      "execution_count": null,
      "outputs": []
    },
    {
      "cell_type": "markdown",
      "metadata": {
        "id": "wfnBc-rxCyQZ"
      },
      "source": [
        "## Train and Test Data Split"
      ]
    },
    {
      "cell_type": "markdown",
      "metadata": {
        "id": "YlJR6RczgdWm"
      },
      "source": [
        "** features Choice **"
      ]
    },
    {
      "cell_type": "code",
      "metadata": {
        "id": "VYkv4lQuDR2F"
      },
      "source": [
        "data = extract_features('raw')\n",
        "labels = np.array(lbl)"
      ],
      "execution_count": null,
      "outputs": []
    },
    {
      "cell_type": "code",
      "metadata": {
        "id": "e-oc9F5TKs4-"
      },
      "source": [
        "in_shape = data[0].shape\n",
        "out_shape = tuple([1]) + in_shape"
      ],
      "execution_count": null,
      "outputs": []
    },
    {
      "cell_type": "markdown",
      "metadata": {
        "id": "wUZmyeIEglDy"
      },
      "source": [
        "** data shuffling & splitting **"
      ]
    },
    {
      "cell_type": "code",
      "metadata": {
        "id": "qtUPPE4KKs45"
      },
      "source": [
        "np.random.seed(10)\n",
        "\n",
        "n_examples = labels.shape[0]\n",
        "\n",
        "r = np.random.choice(range(n_examples), n_examples, replace = False)\n",
        "\n",
        "train_examples = r[:n_examples//2]\n",
        "test_examples =  r[n_examples//2:]"
      ],
      "execution_count": null,
      "outputs": []
    },
    {
      "cell_type": "code",
      "metadata": {
        "id": "V-gyBJhwKs47"
      },
      "source": [
        "X_train = data[train_examples]\n",
        "X_test = data[test_examples]\n",
        "\n",
        "y_train = LB().fit_transform(labels[train_examples][:,0])\n",
        "y_test = LB().fit_transform(labels[test_examples][:,0])\n",
        "\n",
        "snr_train = labels[train_examples][:,1].astype(int)\n",
        "snr_test = labels[test_examples][:,1].astype(int)"
      ],
      "execution_count": null,
      "outputs": []
    },
    {
      "cell_type": "markdown",
      "metadata": {
        "id": "wQ-_55WYBK84"
      },
      "source": [
        "## Model for Fully Connected Nueral Networks"
      ]
    },
    {
      "cell_type": "code",
      "metadata": {
        "id": "PG7uZfW5BReR"
      },
      "source": [
        "model = Sequential()\n",
        "model.add(Dense(128, activation ='relu', input_shape = in_shape))\n",
        "model.add(Dense(256, activation ='relu'))\n",
        "model.add(Dense(128, activation ='relu'))\n",
        "model.add(Flatten())\n",
        "model.add(Dense(10, activation ='softmax'))"
      ],
      "execution_count": null,
      "outputs": []
    },
    {
      "cell_type": "code",
      "metadata": {
        "id": "dD6IMRuVDrNw"
      },
      "source": [
        "model.compile(optimizer = 'adam', loss = 'categorical_crossentropy',  metrics = ['accuracy'])\n",
        "model.summary()"
      ],
      "execution_count": null,
      "outputs": []
    },
    {
      "cell_type": "code",
      "metadata": {
        "id": "ypR5DdtwLse0"
      },
      "source": [
        "model.fit(X_train, y_train, epochs = 100, validation_split = 0.05, batch_size = 2048, callbacks=[EarlyStopping(patience = 15, restore_best_weights = True)])"
      ],
      "execution_count": null,
      "outputs": []
    },
    {
      "cell_type": "code",
      "metadata": {
        "id": "GHqxuT5ZkabZ"
      },
      "source": [
        "model.save('ann.h5')"
      ],
      "execution_count": null,
      "outputs": []
    },
    {
      "cell_type": "markdown",
      "metadata": {
        "id": "A7WC0d9sDyg-"
      },
      "source": [
        "## \"AbRo\" Model for Convolution Connected Neural Networks"
      ]
    },
    {
      "cell_type": "code",
      "metadata": {
        "id": "2Y8zIXRfZEX2"
      },
      "source": [
        "dr = 0.5\n",
        "model = Sequential()\n",
        "model.add(Reshape(out_shape, input_shape = in_shape))\n",
        "model.add(ZeroPadding2D((0, 2), data_format = 'channels_first'))\n",
        "model.add(Conv2D(256, (1, 3), padding = 'valid', activation = \"relu\", name=\"conv1\", kernel_initializer='glorot_uniform', data_format=\"channels_first\"))\n",
        "model.add(Dropout(dr))\n",
        "model.add(ZeroPadding2D((0,2), data_format = 'channels_first'))\n",
        "model.add(Conv2D(80, (2, 3), activation=\"relu\", name=\"conv3\", padding=\"valid\", kernel_initializer=\"glorot_uniform\", data_format=\"channels_first\"))\n",
        "model.add(Dropout(dr))\n",
        "model.add(Flatten())\n",
        "model.add(Dense(256, activation=\"relu\", name=\"dense1\", kernel_initializer=\"he_normal\"))\n",
        "model.add(Dropout(dr))\n",
        "model.add(Dense(10, name=\"dense3\", kernel_initializer=\"he_normal\", activation = 'softmax'))\n",
        "model.add(Reshape([len(mods)]))"
      ],
      "execution_count": null,
      "outputs": []
    },
    {
      "cell_type": "code",
      "metadata": {
        "id": "dhkPZ29VKs5W"
      },
      "source": [
        "model.compile(loss='categorical_crossentropy', optimizer='adam', metrics = ['accuracy'])\n",
        "model.summary()"
      ],
      "execution_count": null,
      "outputs": []
    },
    {
      "cell_type": "code",
      "metadata": {
        "id": "KJnFGjvG8CS2"
      },
      "source": [
        "model.fit(X_train, y_train, epochs = 80, batch_size = 1024, validation_split = 0.05, callbacks=[EarlyStopping(patience = 15, restore_best_weights = True)])"
      ],
      "execution_count": null,
      "outputs": []
    },
    {
      "cell_type": "code",
      "metadata": {
        "id": "xCboPj6HmePv"
      },
      "source": [
        "model.save(\"cnn.h5\")"
      ],
      "execution_count": null,
      "outputs": []
    },
    {
      "cell_type": "markdown",
      "metadata": {
        "id": "U1HLIWliWXFI"
      },
      "source": [
        "## Evaluation"
      ]
    },
    {
      "cell_type": "code",
      "metadata": {
        "id": "Z7cLVWlrWapz"
      },
      "source": [
        "def plot_results(predicted_labels, true_labels, snrs):\n",
        "\n",
        "  sorted_snrs = np.sort(np.unique(snrs))\n",
        "\n",
        "  x_axis = []\n",
        "  y_axis = []\n",
        "  for snr in sorted_snrs:\n",
        "    idx = np.where(snrs == snr)\n",
        "    #print('snr =', snr, '-->', accuracy_score(np.argmax(true_labels[idx], axis = 1), np.argmax(predicted_labels[idx], axis = 1)))\n",
        "    x_axis.append(snr)\n",
        "    y_axis.append(accuracy_score(np.argmax(true_labels[idx], axis = 1), np.argmax(predicted_labels[idx], axis = 1)))\n",
        "\n",
        "  plt.xlabel('SNR')\n",
        "  plt.ylabel('Accuracy')\n",
        "  plt.title('Classification Accuracy over different SNRs')\n",
        "  plt.plot(x_axis, np.array(y_axis) * 100, 'ro--')\n",
        "  plt.grid(True)"
      ],
      "execution_count": null,
      "outputs": []
    },
    {
      "cell_type": "code",
      "metadata": {
        "id": "6a0lJiO3r_Vi"
      },
      "source": [
        "def print_results(predicted_labels, true_labels, snrs):\n",
        "\n",
        "  sorted_snrs = np.sort(np.unique(snrs))\n",
        "\n",
        "  x_axis = []\n",
        "  y_axis = []\n",
        "  for snr in sorted_snrs:\n",
        "    idx = np.where(snrs == snr)\n",
        "    #print('snr =', snr, '-->', accuracy_score(np.argmax(true_labels[idx], axis = 1), np.argmax(predicted_labels[idx], axis = 1)))\n",
        "    x_axis.append(snr)\n",
        "    y_axis.append(accuracy_score(np.argmax(true_labels[idx], axis = 1), np.argmax(predicted_labels[idx], axis = 1)))\n",
        "\n",
        "  return df(data = np.array(y_axis).reshape(1, -1) * 100,  columns = sorted_snrs, index = ['accuracy']).round(2)"
      ],
      "execution_count": null,
      "outputs": []
    },
    {
      "cell_type": "code",
      "metadata": {
        "id": "2FzcvVc6nmbC"
      },
      "source": [
        "def plot_confusion_matrix(y_true, y_pred, classes, cmap=plt.cm.Blues):\n",
        "  y_true, y_pred = np.argmax(y_true, axis = 1), np.argmax(y_pred, axis = 1)\n",
        "  cm = confusion_matrix(y_true, y_pred)\n",
        "  cm = cm.astype('float') / cm.sum(axis=1)[:, np.newaxis]\n",
        "  fig, ax = plt.subplots()\n",
        "  im = ax.imshow(cm, interpolation='nearest', cmap=cmap)\n",
        "  ax.figure.colorbar(im, ax=ax)\n",
        "  # We want to show all ticks...\n",
        "  ax.set(xticks=np.arange(cm.shape[1]),\n",
        "         yticks=np.arange(cm.shape[0]),\n",
        "         # ... and label them with the respective list entries\n",
        "         xticklabels=classes, yticklabels=classes,\n",
        "         title = 'Confusion Matrix',\n",
        "         ylabel = 'True label',\n",
        "         xlabel = 'Predicted label')\n",
        "\n",
        "  # Rotate the tick labels and set their alignment.\n",
        "  plt.setp(ax.get_xticklabels(), rotation=45, ha=\"right\",\n",
        "           rotation_mode=\"anchor\")"
      ],
      "execution_count": null,
      "outputs": []
    },
    {
      "cell_type": "markdown",
      "metadata": {
        "id": "jKW_xp8w8qN1"
      },
      "source": [
        "** Fully Connected Neural Network Evaluation **"
      ]
    },
    {
      "cell_type": "code",
      "metadata": {
        "id": "S6xxG9VcrZfm"
      },
      "source": [
        "ann_model = keras.models.load_model('ann.h5')"
      ],
      "execution_count": null,
      "outputs": []
    },
    {
      "cell_type": "code",
      "metadata": {
        "id": "4Ktfm-fk37VG"
      },
      "source": [
        "y_pred_ann = ann_model.predict(X_test)"
      ],
      "execution_count": null,
      "outputs": []
    },
    {
      "cell_type": "code",
      "metadata": {
        "id": "LhjDFkCPW65X"
      },
      "source": [
        "plot_results(y_pred_ann, y_test, snr_test)"
      ],
      "execution_count": null,
      "outputs": []
    },
    {
      "cell_type": "code",
      "metadata": {
        "id": "gioOOGHRsMfV"
      },
      "source": [
        "print_results(y_pred_ann, y_test, snr_test)"
      ],
      "execution_count": null,
      "outputs": []
    },
    {
      "cell_type": "code",
      "metadata": {
        "id": "xycfVkhXZBsu"
      },
      "source": [
        "plot_confusion_matrix(y_test, y_pred_ann, mods)"
      ],
      "execution_count": null,
      "outputs": []
    },
    {
      "cell_type": "markdown",
      "metadata": {
        "id": "eW1I3_la8vo9"
      },
      "source": [
        "** Convolutional Neural Network Evaluation **"
      ]
    },
    {
      "cell_type": "code",
      "metadata": {
        "id": "Lkyka1zZ8Wct"
      },
      "source": [
        "cnn_model = keras.models.load_model('cnn.h5')"
      ],
      "execution_count": null,
      "outputs": []
    },
    {
      "cell_type": "code",
      "metadata": {
        "id": "GVeWbsoh8d8T"
      },
      "source": [
        "y_pred_cnn = model.predict(X_test)"
      ],
      "execution_count": null,
      "outputs": []
    },
    {
      "cell_type": "code",
      "metadata": {
        "id": "xUa7Ua8HXBxk"
      },
      "source": [
        "plot_results(y_pred_cnn, y_test, snr_test)"
      ],
      "execution_count": null,
      "outputs": []
    },
    {
      "cell_type": "code",
      "metadata": {
        "id": "-zxS5Svc12Q-"
      },
      "source": [
        "print_results(y_pred_cnn, y_test, snr_test)"
      ],
      "execution_count": null,
      "outputs": []
    },
    {
      "cell_type": "code",
      "metadata": {
        "id": "eZgRHj2q14E6"
      },
      "source": [
        "plot_confusion_matrix(y_test, y_pred_cnn, mods)"
      ],
      "execution_count": null,
      "outputs": []
    },
    {
      "cell_type": "code",
      "metadata": {
        "id": "EvjIRzOx7CIA"
      },
      "source": [
        "def train_once(size = 5000):\n",
        "  dr = 0.5\n",
        "  model = Sequential()\n",
        "  model.add(Reshape(out_shape, input_shape = in_shape))\n",
        "  model.add(ZeroPadding2D((0, 2), data_format = 'channels_first'))\n",
        "  model.add(Conv2D(256, (1, 3), padding = 'valid', activation = \"relu\", name=\"conv1\", kernel_initializer='glorot_uniform', data_format=\"channels_first\"))\n",
        "  model.add(Dropout(dr))\n",
        "  model.add(ZeroPadding2D((0,2), data_format = 'channels_first'))\n",
        "  model.add(Conv2D(80, (2, 3), activation=\"relu\", name=\"conv3\", padding=\"valid\", kernel_initializer=\"glorot_uniform\", data_format=\"channels_first\"))\n",
        "  model.add(Dropout(dr))\n",
        "  model.add(Flatten())\n",
        "  model.add(Dense(256, activation=\"relu\", name=\"dense1\", kernel_initializer=\"he_normal\"))\n",
        "  model.add(Dropout(dr))\n",
        "  model.add(Dense(10, name=\"dense3\", kernel_initializer=\"he_normal\", activation = 'softmax'))\n",
        "  model.add(Reshape([len(mods)]))\n",
        "  model.compile(loss='categorical_crossentropy', optimizer='adam', metrics = ['accuracy'])\n",
        "  #model.summary()\n",
        "  model.fit(X_train[:size], y_train[:size], epochs = 100, batch_size = 1024, callbacks=[EarlyStopping(patience = 15, restore_best_weights = True)])\n",
        "  train_pred = model.evaluate(X_train[:size], y_train[:size])\n",
        "  test_pred = model.evaluate(X_test, y_test)\n",
        "  return train_pred, test_pred\n"
      ],
      "execution_count": null,
      "outputs": []
    },
    {
      "cell_type": "code",
      "metadata": {
        "id": "6aPXcW1X7C6R"
      },
      "source": [
        "list(range(5000, 100000, 5000))"
      ],
      "execution_count": null,
      "outputs": []
    },
    {
      "cell_type": "code",
      "metadata": {
        "id": "TkfHNP91-35G"
      },
      "source": [
        "train_scores, test_scores = [], []\n",
        "rang = range(5000, 100000, 5000)\n",
        "for i in rang:\n",
        "  trn, tst = train_once(i)\n",
        "  train_scores.append(trn)\n",
        "  test_scores.append(tst)\n",
        "\n",
        "plt.imshow(rang, train_scores, 'ro--', rang, test_scores, 'bo--')"
      ],
      "execution_count": null,
      "outputs": []
    }
  ]
}